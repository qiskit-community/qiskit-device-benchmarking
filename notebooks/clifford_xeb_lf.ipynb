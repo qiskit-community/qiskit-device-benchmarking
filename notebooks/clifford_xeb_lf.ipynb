{
 "cells": [
  {
   "cell_type": "markdown",
   "id": "9cfb8633-3f04-4b0d-a0b0-f428ed4570bd",
   "metadata": {},
   "source": [
    "# Clifford/XEB/Layer Fidelity"
   ]
  },
  {
   "cell_type": "markdown",
   "id": "97cf4347-219a-492a-aa29-82268095a8ae",
   "metadata": {},
   "source": [
    "Use layer fidelity to place a chain and then measure a full Clifford circuit. Flag to also measure a Haar random version of the circuit and perform XEB."
   ]
  },
  {
   "cell_type": "code",
   "execution_count": 1,
   "id": "5a96ba63-8aa5-4913-a4a9-2115f8186b97",
   "metadata": {},
   "outputs": [],
   "source": [
    "import numpy as np\n",
    "import matplotlib.pyplot as plt\n",
    "import datetime\n",
    "import os\n",
    "import pickle\n",
    "\n",
    "from qiskit_ibm_runtime import QiskitRuntimeService, SamplerV2, EstimatorV2\n",
    "from qiskit.transpiler import CouplingMap\n",
    "\n",
    "import qiskit_device_benchmarking.utilities.graph_utils as gu\n",
    "import qiskit_device_benchmarking.utilities.layer_fidelity_utils as lfu\n",
    "import qiskit_device_benchmarking.utilities.file_utils as fu\n",
    "import qiskit_device_benchmarking.utilities.cliffordize_utils as cu\n",
    "\n",
    "# for simulating\n",
    "from qiskit_aer import AerSimulator\n",
    "from qiskit_aer.noise import NoiseModel, depolarizing_error, ReadoutError"
   ]
  },
  {
   "cell_type": "markdown",
   "id": "2b059c61-8cb1-482c-ad30-94427d32979e",
   "metadata": {},
   "source": [
    "## Load Backend and Options"
   ]
  },
  {
   "cell_type": "code",
   "execution_count": 4,
   "id": "057b5f8b-168b-4f96-91e3-7b0dc908f564",
   "metadata": {},
   "outputs": [],
   "source": [
    "# load service\n",
    "accnt_name = \"my_accnt\"\n",
    "service = QiskitRuntimeService(name=accnt_name)"
   ]
  },
  {
   "cell_type": "code",
   "execution_count": 5,
   "id": "3e6bc376-e35f-40c5-9c9d-d2166953db7a",
   "metadata": {},
   "outputs": [
    {
     "name": "stdout",
     "output_type": "stream",
     "text": [
      "NoiseModel:\n",
      "  Basis gates: ['cx', 'cz', 'id', 'rz', 'sx', 'x']\n",
      "  Instructions with noise: ['x', 'sx', 'cz']\n",
      "  All-qubits errors: ['sx', 'x', 'cz']\n"
     ]
    }
   ],
   "source": [
    "# Specify machine\n",
    "machine = \"ibm_fez\"\n",
    "hgp = \"\"\n",
    "\n",
    "# Get backend\n",
    "backend = service.backend(machine, instance=hgp)\n",
    "coupling_map = backend.coupling_map\n",
    "\n",
    "# Get two qubit gate\n",
    "if \"ecr\" in backend.configuration().basis_gates:\n",
    "    twoq_gate = \"ecr\"\n",
    "elif \"cz\" in backend.configuration().basis_gates:\n",
    "    twoq_gate = \"cz\"\n",
    "else:\n",
    "    twoq_gate = \"cx\"\n",
    "\n",
    "# Get one qubit basis gates\n",
    "oneq_gates = []\n",
    "for i in backend.configuration().basis_gates:\n",
    "    # put in a case to handle rx and rzz\n",
    "    if i.casefold() == \"rx\" or i.casefold() == \"rzz\":\n",
    "        continue\n",
    "    if i.casefold() != twoq_gate.casefold():\n",
    "        oneq_gates.append(i)\n",
    "\n",
    "run_sim = True\n",
    "\n",
    "if run_sim:\n",
    "    print(\"Running in Sim Mode\")\n",
    "\n",
    "    twoq_gate = \"cz\"\n",
    "    basis_gates = [twoq_gate, \"sx\", \"x\", \"rz\"]\n",
    "\n",
    "    # Create an empty noise model\n",
    "    noise_model = NoiseModel()\n",
    "\n",
    "    # Add depolarizing error to all single qubit u1, u2, u3 gates\n",
    "    error = depolarizing_error(0.0001, 1)\n",
    "    noise_model.add_all_qubit_quantum_error(error, [\"sx\", \"x\"])\n",
    "\n",
    "    re_err = np.random.random(15) / 50\n",
    "    for j, i in enumerate(re_err):\n",
    "        re = ReadoutError([[1 - i, i], [i, 1 - i]])\n",
    "        # noise_model.add_readout_error(re, [j])\n",
    "\n",
    "    error = depolarizing_error(0.002, 2)\n",
    "    noise_model.add_all_qubit_quantum_error(error, [\"cz\"])\n",
    "\n",
    "    # Print noise model info\n",
    "    print(noise_model)\n",
    "\n",
    "    backend = AerSimulator(\n",
    "        coupling_map=[[i, i + 1] for i in range(15)],\n",
    "        basis_gates=basis_gates,\n",
    "        noise_model=noise_model,\n",
    "    )\n",
    "    coupling_map = backend.coupling_map"
   ]
  },
  {
   "cell_type": "code",
   "execution_count": 15,
   "id": "e2c9019e-0371-4aaa-9bc1-a52229d730b5",
   "metadata": {},
   "outputs": [
    {
     "name": "stdout",
     "output_type": "stream",
     "text": [
      "Directory '2025-06-23_02_35_49' ensured to exist.\n"
     ]
    }
   ],
   "source": [
    "# Settings for the Clifford/XEB Run\n",
    "\n",
    "# number of qubits in the chain\n",
    "nqubits = [5, 8]\n",
    "\n",
    "# number of layers\n",
    "nlayers = [4, 8, 12, 16, 20, 24, 28]\n",
    "\n",
    "# Options for the runs\n",
    "# Here we will randomize the pauli with the\n",
    "# Cliffordization so only need to specify ones\n",
    "ncliffordizations = 50\n",
    "\n",
    "# shots per cliffordization separated into the number of qubits\n",
    "cliff_shots = [1000, 1000]\n",
    "\n",
    "if len(cliff_shots) != len(nqubits):\n",
    "    raise ValueError(\"shots array and qubits array need to be identical length\")\n",
    "\n",
    "# number of randomizations for the haar circuits\n",
    "haarsamples = 20\n",
    "haar_shots = 1000\n",
    "haar_twirls = 1\n",
    "\n",
    "# shots for the chain finding\n",
    "eplg_spam_shots = 200\n",
    "\n",
    "# do XEB\n",
    "run_xeb = True\n",
    "\n",
    "# do we want to analyze the XEB data\n",
    "# note: this will fail if it's too large\n",
    "analyze_xeb = True\n",
    "\n",
    "if analyze_xeb and nqubits[-1] > 20:\n",
    "    print(\"Warning, analyzing XEB for more than 20 qubits will be quite slow\")\n",
    "\n",
    "# save bindings\n",
    "save_bindings = True\n",
    "file_name_root = fu.timestamp_name()\n",
    "\n",
    "if save_bindings:\n",
    "    os.makedirs(file_name_root, exist_ok=True)\n",
    "    print(f\"Directory '{file_name_root}' ensured to exist.\")\n",
    "\n",
    "# Prepare samplers/estimators for the runs\n",
    "\n",
    "# use this for the cliffordization\n",
    "estimator = EstimatorV2(backend)\n",
    "estimator.options.resilience_level = 0\n",
    "estimator.options.twirling.enable_gates = True\n",
    "estimator.options.twirling.enable_measure = True\n",
    "estimator.options.resilience.measure_mitigation = False\n",
    "estimator.options.twirling.num_randomizations = 1\n",
    "estimator.options.twirling.shots_per_randomization = cliff_shots[0]\n",
    "\n",
    "# use this for the XEB\n",
    "sampler_twirled = SamplerV2(backend)\n",
    "sampler_twirled.options.twirling.enable_gates = True\n",
    "sampler_twirled.options.twirling.enable_measure = True\n",
    "sampler_twirled.options.default_shots = haar_shots\n",
    "sampler_twirled.options.twirling.num_randomizations = haar_twirls\n",
    "sampler_twirled.options.twirling.shots_per_randomization = int(haar_shots / haar_twirls)\n",
    "\n",
    "# get the grid chains\n",
    "if not run_sim:\n",
    "    grid_chain_flt, layers = lfu.grid_chain_to_layers(backend, coupling_map)"
   ]
  },
  {
   "cell_type": "markdown",
   "id": "4dba07a1-d07f-47d3-9b3a-fabc0b4e8c76",
   "metadata": {},
   "source": [
    "## Generate Bindings"
   ]
  },
  {
   "cell_type": "markdown",
   "id": "3d7eb6dc-cb31-4f38-8194-358ac98f4fd4",
   "metadata": {},
   "source": [
    "Generate the circuit parameters for the different clifford and haar datasets. Need to run once."
   ]
  },
  {
   "cell_type": "code",
   "execution_count": 16,
   "id": "7d666433-0fbc-47a2-8646-0eef537bfd2a",
   "metadata": {},
   "outputs": [
    {
     "name": "stdout",
     "output_type": "stream",
     "text": [
      "[5, 4]\n",
      "[5, 8]\n",
      "[5, 12]\n",
      "[5, 16]\n",
      "[5, 20]\n",
      "[5, 24]\n",
      "[5, 28]\n",
      "[8, 4]\n",
      "[8, 8]\n",
      "[8, 12]\n",
      "[8, 16]\n",
      "[8, 20]\n",
      "[8, 24]\n",
      "[8, 28]\n",
      "CPU times: user 16 s, sys: 53.7 ms, total: 16.1 s\n",
      "Wall time: 16.1 s\n"
     ]
    }
   ],
   "source": [
    "%%time\n",
    "cliff_list = []\n",
    "haar_list = []\n",
    "\n",
    "\n",
    "for nq in nqubits:\n",
    "    cliff_list.append([])\n",
    "    haar_list.append([])\n",
    "    for nl in nlayers:\n",
    "        print([nq, nl])\n",
    "\n",
    "        target_circ = cu.bricklayer_circ(nq, nl, gate=twoq_gate)\n",
    "        cliff_tmp = cu.Cliffordize(target_circ, ncliffordizations)\n",
    "        _, _, _ = cliff_tmp.random_cliff()\n",
    "        cliff_list[-1].append(cliff_tmp)\n",
    "\n",
    "        if run_xeb:\n",
    "            cliff_tmp = cu.Cliffordize(target_circ, haarsamples)\n",
    "            (\n",
    "                _,\n",
    "                _,\n",
    "            ) = cliff_tmp.random_haar()\n",
    "            haar_list[-1].append(cliff_tmp)\n",
    "\n",
    "\n",
    "if save_bindings:\n",
    "    with open(os.path.join(file_name_root, \"cliff_objs.pkl\"), \"wb\") as file:\n",
    "        pickle.dump(cliff_list, file)\n",
    "\n",
    "    if run_xeb:\n",
    "        with open(os.path.join(file_name_root, \"haar_objs.pkl\"), \"wb\") as file:\n",
    "            pickle.dump(haar_list, file)"
   ]
  },
  {
   "cell_type": "markdown",
   "id": "05623c82-bda2-4e50-b2b3-19295467c319",
   "metadata": {},
   "source": [
    "## Run the Experiment"
   ]
  },
  {
   "cell_type": "markdown",
   "id": "cc48bde3-5180-41e3-992f-b7b517e11d64",
   "metadata": {},
   "source": [
    "First, run a set of grid RB (LF) runs and SPAM circuits to find the best chains. Once we find the best chains, run the Cliffordization"
   ]
  },
  {
   "cell_type": "code",
   "execution_count": 17,
   "id": "38d54e13-af39-4c48-96e5-41dd8b924a2f",
   "metadata": {},
   "outputs": [
    {
     "name": "stdout",
     "output_type": "stream",
     "text": [
      "Running on chain [0, 1, 2, 3, 4] with EPLG 0.000000\n",
      "cliffordize job\n",
      "b2ba7ecc-63be-48d0-bba9-54310237822b\n",
      "haar job\n",
      "bb441368-3a34-49a7-b04d-62fde6e1cfa2\n",
      "Running on chain [0, 1, 2, 3, 4, 5, 6, 7] with EPLG 0.000000\n",
      "cliffordize job\n",
      "ebd5d0c3-243a-48a6-b9b6-c869326a77c1\n",
      "haar job\n",
      "bb54b6bb-2c64-43c7-83c7-3f018ed8a3e8\n"
     ]
    }
   ],
   "source": [
    "cliff_ids = []\n",
    "haar_ids = []\n",
    "chain_lst = []\n",
    "eplg_lst = []\n",
    "cliff_jobs = []\n",
    "haar_jobs = []\n",
    "\n",
    "spam_id = 0\n",
    "eplg_ids = 0\n",
    "\n",
    "if not run_sim:\n",
    "    # run the eplg + spam circuits\n",
    "    lfexps, eplg_ids, spam_id = cu.run_eplg_and_spam(\n",
    "        grid_chain_flt, layers, backend, twoq_gate, oneq_gates\n",
    "    )\n",
    "\n",
    "    # analyze the circuits\n",
    "    err_dict = cu.eplg_analysis(lfexps, eplg_ids, service, backend, twoq_gate, layers)\n",
    "    readout_fids = cu.spam_analysis(spam_id, service, layers)\n",
    "\n",
    "    # make a new error dict weighted by the readout fidelity on each edge\n",
    "    err_dict2 = {}\n",
    "    for i in err_dict:\n",
    "        err_dict2[i] = (\n",
    "            4\n",
    "            / 5\n",
    "            * (\n",
    "                1\n",
    "                - (1 - 5 / 4 * err_dict[i])\n",
    "                * (readout_fids[i[0]] * readout_fids[i[1]]) ** (1 / 2)\n",
    "            )\n",
    "        )\n",
    "\n",
    "    # median error\n",
    "    med_err = np.median(list(err_dicts.values))\n",
    "\n",
    "for nqi, nq in enumerate(nqubits):\n",
    "    if not run_sim:\n",
    "        # find the best chain\n",
    "        chains, _ = lfu.best_chain(\n",
    "            backend.num_qubits,\n",
    "            coupling_map,\n",
    "            err_dict2,\n",
    "            path_len=nq,\n",
    "            best_fid_guess=(1 - med_err) ** nq,\n",
    "            fid_cutoff=0.9,\n",
    "        )\n",
    "\n",
    "        chain = chains[0]\n",
    "\n",
    "        # run on this chain!\n",
    "        lf_meas = lfu.layer_fid_chain(err_dict, chain)\n",
    "        eplg_chain = 4 / 5 * (1 - lf_meas ** (1 / (nq - 1)))\n",
    "\n",
    "    else:\n",
    "        chain = list(range(nq))\n",
    "        eplg_chain = 0\n",
    "\n",
    "    # find the proper EPLG of the best chain\n",
    "    print(\"Running on chain %s with EPLG %f\" % (chain, eplg_chain))\n",
    "\n",
    "    chain_lst.append(chain)\n",
    "    eplg_lst.append(eplg_chain)\n",
    "\n",
    "    # make a list of all pubs for this number of qubits\n",
    "    all_pubs = []\n",
    "    for nlind, nl in enumerate(nlayers):\n",
    "        pub_layer = cliff_list[nqi][nlind].to_pub(backend, initial_layout=chain)\n",
    "        all_pubs.append(pub_layer)\n",
    "\n",
    "    # set the number of shots specified for this number of qubits\n",
    "    estimator.options.twirling.shots_per_randomization = cliff_shots[nqi]\n",
    "    job = estimator.run(all_pubs)\n",
    "    cliff_ids.append(job.job_id())\n",
    "    cliff_jobs.append(job)\n",
    "\n",
    "    print(\"cliffordize job\")\n",
    "    print(cliff_ids[-1])\n",
    "\n",
    "    if run_xeb:\n",
    "        all_sampler_pubs = []\n",
    "        for nlind, nl in enumerate(nlayers):\n",
    "            sampler_inputs = haar_list[nqi][nlind].to_sampler(backend, chain)\n",
    "            all_sampler_pubs.append(sampler_inputs)\n",
    "\n",
    "        job = sampler_twirled.run(all_sampler_pubs)\n",
    "        haar_ids.append(job.job_id())\n",
    "        haar_jobs.append(job)\n",
    "        print(\"haar job\")\n",
    "        print(haar_ids[-1])\n",
    "\n",
    "id_dict = {\n",
    "    \"spam_id\": spam_id,\n",
    "    \"eplg_ids\": eplg_ids,\n",
    "    \"cliff_ids\": cliff_ids,\n",
    "    \"haar_ids\": haar_ids,\n",
    "    \"chains\": chain_lst,\n",
    "    \"eplgs\": eplg_chain,\n",
    "}\n",
    "\n",
    "if save_bindings:\n",
    "    fu.export_yaml(os.path.join(file_name_root, \"job_ids.yaml\"), id_dict)"
   ]
  },
  {
   "cell_type": "markdown",
   "id": "611ee5e7-1bed-4848-be88-cc326bcffd2d",
   "metadata": {},
   "source": [
    "## Analyze Data"
   ]
  },
  {
   "cell_type": "code",
   "execution_count": 18,
   "id": "ded9d6e6-e626-4052-ac9a-0529a3a39a20",
   "metadata": {},
   "outputs": [],
   "source": [
    "# Analyze the cliffordization runs, the fidelity is just the average over the expectation values\n",
    "cliff_res_lst = []\n",
    "for nqi, nq in enumerate(nqubits):\n",
    "    cliff_res_lst.append([])\n",
    "    for nlind, nl in enumerate(nlayers):\n",
    "        cliff_res_lst[-1].append(cliff_jobs[nqi].result()[nlind].data.evs)"
   ]
  },
  {
   "cell_type": "code",
   "execution_count": 19,
   "id": "53719eec-3bbe-4af2-9856-4d15cd22ae73",
   "metadata": {},
   "outputs": [
    {
     "data": {
      "image/png": "[encoded data removed]",
      "text/plain": [
       "<Figure size 640x480 with 1 Axes>"
      ]
     },
     "metadata": {},
     "output_type": "display_data"
    }
   ],
   "source": [
    "for nqi, nq in enumerate(nqubits):\n",
    "    plt.errorbar(\n",
    "        nlayers,\n",
    "        [np.mean(cliff_res_lst[nqi][i]) for i in range(len(nlayers))],\n",
    "        [\n",
    "            np.std(cliff_res_lst[nqi][i]) / np.sqrt(ncliffordizations)\n",
    "            for i in range(len(nlayers))\n",
    "        ],\n",
    "        label=\"NQ: %d\" % nq,\n",
    "    )\n",
    "\n",
    "plt.ylabel(\"Cliff Fidelity\")\n",
    "plt.xlabel(\"Layers\")\n",
    "plt.yscale(\"log\")\n",
    "plt.legend()\n",
    "plt.grid(True, which=\"both\")"
   ]
  },
  {
   "cell_type": "code",
   "execution_count": 20,
   "id": "8c56f399-64d4-485c-9694-3931db3d362f",
   "metadata": {},
   "outputs": [],
   "source": [
    "# Analyze the XEB data with caution!\n",
    "if run_xeb and analyze_xeb:\n",
    "    # load the statevector simulator\n",
    "    sim_statevector = AerSimulator(method=\"statevector\")\n",
    "\n",
    "    xeb_data = []  # xeb data\n",
    "    xeb_data_norm = []  # normalized to the ideal value\n",
    "    xeb_data_norm2 = []  # ideal value\n",
    "\n",
    "    for nqi, nq in enumerate(nqubits):\n",
    "        xeb_data_norm.append([])\n",
    "        xeb_data.append([])\n",
    "        xeb_data_norm2.append([])\n",
    "        for nlind, nl in enumerate(nlayers):\n",
    "            xeb_data_norm[-1].append([])\n",
    "            xeb_data[-1].append([])\n",
    "            xeb_data_norm2[-1].append([])\n",
    "\n",
    "            # bind all the parameters\n",
    "            # which will create haarsamples circuits\n",
    "            haar_ideal_circ_list = haar_list[nqi][nlind].bindings.bind_all(\n",
    "                haar_list[nqi][nlind].circuit\n",
    "            )\n",
    "\n",
    "            for j in range(len(haar_ideal_circ_list)):\n",
    "                # save the statevector\n",
    "                haar_ideal_circ_list[j].save_statevector()\n",
    "                run1 = sim_statevector.run(haar_ideal_circ_list[j])\n",
    "\n",
    "                p0, p0_ideal = cu.xeb(\n",
    "                    nq,\n",
    "                    haar_jobs[nqi].result()[nlind].data[\"meas\"][j].get_counts(),\n",
    "                    run1.result().get_statevector().probabilities_dict(),\n",
    "                )\n",
    "                xeb_data[-1][-1].append(p0)\n",
    "                xeb_data_norm[-1][-1].append(p0 / p0_ideal)\n",
    "                xeb_data_norm2[-1][-1].append(p0_ideal)"
   ]
  },
  {
   "cell_type": "code",
   "execution_count": 21,
   "id": "6e6ebe5c-3cba-4882-837a-e481888b1b4a",
   "metadata": {},
   "outputs": [
    {
     "data": {
      "image/png": "[encoded data removed]",
      "text/plain": [
       "<Figure size 640x480 with 1 Axes>"
      ]
     },
     "metadata": {},
     "output_type": "display_data"
    }
   ],
   "source": [
    "for nqi, nq in enumerate(nqubits):\n",
    "    plt.errorbar(\n",
    "        nlayers,\n",
    "        [np.mean(xeb_data_norm[nqi][i]) for i in range(len(nlayers))],\n",
    "        [\n",
    "            np.std(xeb_data_norm[nqi][i]) / np.sqrt(haarsamples)\n",
    "            for i in range(len(nlayers))\n",
    "        ],\n",
    "        label=\"NQ: %d\" % nq,\n",
    "    )\n",
    "\n",
    "plt.ylabel(\"XEB\")\n",
    "plt.xlabel(\"Layers\")\n",
    "plt.yscale(\"log\")\n",
    "plt.legend()\n",
    "plt.grid(True, which=\"both\")"
   ]
  },
  {
   "cell_type": "markdown",
   "id": "c72edf46-69bf-42a4-9a30-f39beeb6bbf7",
   "metadata": {},
   "source": [
    "# Copyright"
   ]
  },
  {
   "cell_type": "code",
   "execution_count": 26,
   "id": "5be5682a-8f93-43ae-be88-7c792ea4170c",
   "metadata": {},
   "outputs": [
    {
     "data": {
      "text/html": [
       "<div style='width: 100%; background-color:#d5d9e0;padding-left: 10px; padding-bottom: 10px; padding-right: 10px; padding-top: 5px'><p>&copy; Copyright IBM 2017, 2025.</p><p>This code is licensed under the Apache License, Version 2.0. You may<br>obtain a copy of this license in the LICENSE.txt file in the root directory<br> of this source tree or at http://www.apache.org/licenses/LICENSE-2.0.<p>Any modifications or derivative works of this code must retain this<br>copyright notice, and modified files need to carry a notice indicating<br>that they have been altered from the originals.</p></div>"
      ],
      "text/plain": [
       "<IPython.core.display.HTML object>"
      ]
     },
     "metadata": {},
     "output_type": "display_data"
    }
   ],
   "source": [
    "import datetime\n",
    "from IPython.display import HTML, display\n",
    "\n",
    "\n",
    "def qiskit_copyright(line=\"\", cell=None):\n",
    "    \"\"\"IBM copyright\"\"\"\n",
    "    now = datetime.datetime.now()\n",
    "\n",
    "    html = \"<div style='width: 100%; background-color:#d5d9e0;\"\n",
    "    html += \"padding-left: 10px; padding-bottom: 10px; padding-right: 10px; padding-top: 5px'>\"\n",
    "    html += \"<p>&copy; Copyright IBM 2017, %s.</p>\" % now.year\n",
    "    html += (\n",
    "        \"<p>This code is licensed under the Apache License, Version 2.0. You may<br>\"\n",
    "    )\n",
    "    html += \"obtain a copy of this license in the LICENSE.txt file in the root directory<br> \"\n",
    "    html += \"of this source tree or at http://www.apache.org/licenses/LICENSE-2.0.\"\n",
    "\n",
    "    html += \"<p>Any modifications or derivative works of this code must retain this<br>\"\n",
    "    html += \"copyright notice, and modified files need to carry a notice indicating<br>\"\n",
    "    html += \"that they have been altered from the originals.</p>\"\n",
    "    html += \"</div>\"\n",
    "    return display(HTML(html))\n",
    "\n",
    "\n",
    "qiskit_copyright()"
   ]
  },
  {
   "cell_type": "code",
   "execution_count": null,
   "id": "ec243e45-a3d7-4996-a277-88fab42167a8",
   "metadata": {},
   "outputs": [],
   "source": []
  }
 ],
 "metadata": {
  "kernelspec": {
   "display_name": "Python 3 (ipykernel)",
   "language": "python",
   "name": "python3"
  },
  "language_info": {
   "codemirror_mode": {
    "name": "ipython",
    "version": 3
   },
   "file_extension": ".py",
   "mimetype": "text/x-python",
   "name": "python",
   "nbconvert_exporter": "python",
   "pygments_lexer": "ipython3",
   "version": "3.12.11"
  }
 },
 "nbformat": 4,
 "nbformat_minor": 5
}
