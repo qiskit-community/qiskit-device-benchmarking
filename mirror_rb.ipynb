{
 "cells": [
  {
   "cell_type": "code",
   "execution_count": null,
   "id": "2f311b3a",
   "metadata": {},
   "outputs": [],
   "source": [
    "import matplotlib.pyplot as plt\n",
    "\n",
    "from qiskit_ibm_runtime.fake_provider import FakeSherbrooke\n",
    "from qiskit_device_benchmarking.bench_code.mrb import MirrorRB\n",
    "\n",
    "from qiskit.providers.fake_provider import GenericBackendV2\n",
    "\n",
    "# custom noisy backend (or an attempt at one, at least)\n",
    "class NoisyBackend(GenericBackendV2):\n",
    "    def __init__(\n",
    "        self,\n",
    "        num_qubits: int,\n",
    "        basis_gates: list[str] | None = None,\n",
    "        coupling_map: list[list[int]] = None,\n",
    "        p1: float = 0,\n",
    "        p2: float = 0,\n",
    "    ):\n",
    "        self.p = (p1,p2)\n",
    "        super().__init__(\n",
    "            num_qubits,\n",
    "            basis_gates,\n",
    "            coupling_map=coupling_map,\n",
    "            noise_info = (p1>0 or p2 >0)\n",
    "            )\n",
    "    def _get_noise_defaults(self, name: str, num_qubits: int) -> tuple:\n",
    "        if name in ['delay', 'reset']:\n",
    "            return (self.p[0],self.p[0])\n",
    "        else:\n",
    "            if num_qubits == 1:\n",
    "                return (0,0,self.p[0],self.p[0])\n",
    "            else:\n",
    "                return (0,0,self.p[1],self.p[1])"
   ]
  },
  {
   "cell_type": "markdown",
   "id": "b74a33ee",
   "metadata": {},
   "source": [
    "Pick a backend."
   ]
  },
  {
   "cell_type": "code",
   "execution_count": null,
   "id": "e22a18ca",
   "metadata": {},
   "outputs": [],
   "source": [
    "p = 1e-2\n",
    "backend = NoisyBackend(\n",
    "    num_qubits=8,\n",
    "    basis_gates = [\"id\", \"h\", \"x\", \"y\", \"z\", \"rx\", \"cx\"],\n",
    "    p1=p/10,\n",
    "    p2=p,\n",
    ")\n",
    "\n",
    "backend = FakeSherbrooke()"
   ]
  },
  {
   "cell_type": "code",
   "execution_count": null,
   "id": "13c56bab",
   "metadata": {},
   "outputs": [],
   "source": [
    "# number of shots per circuit\n",
    "shots = 10000\n",
    "\n",
    "# lengths of different mirror circuits to run\n",
    "lengths = [2]+[4,10,20,50,100]\n",
    "\n",
    "# upper bound the qubit number or sherbrooke doesn't work\n",
    "num_qubits = min(backend.num_qubits,10)\n",
    "\n",
    "# set up the experiment object\n",
    "exp = MirrorRB(\n",
    "    range(num_qubits),\n",
    "    lengths,\n",
    "    backend=backend,\n",
    "    two_qubit_gate_density=0.25,\n",
    "    num_samples=20,\n",
    "    )\n",
    "exp.set_run_options(\n",
    "    shots=shots\n",
    ")"
   ]
  },
  {
   "cell_type": "markdown",
   "id": "bbad7a6d",
   "metadata": {},
   "source": [
    "Now we run it!"
   ]
  },
  {
   "cell_type": "code",
   "execution_count": null,
   "id": "655f5df4",
   "metadata": {},
   "outputs": [],
   "source": [
    "#run\n",
    "rb_data = exp.run()\n",
    "print(rb_data.job_ids)"
   ]
  },
  {
   "cell_type": "code",
   "execution_count": null,
   "id": "2f8f9c6c",
   "metadata": {},
   "outputs": [],
   "source": [
    "exp.analysis.set_options(analyzed_quantity='Effective Polarization')\n",
    "analysis = exp.analysis.run(rb_data)"
   ]
  },
  {
   "cell_type": "code",
   "execution_count": null,
   "id": "0d7e760a",
   "metadata": {},
   "outputs": [],
   "source": [
    "analysis.block_for_results()\n",
    "analysis.figure(0)"
   ]
  },
  {
   "cell_type": "code",
   "execution_count": null,
   "id": "a3dda9cc",
   "metadata": {},
   "outputs": [],
   "source": []
  },
  {
   "cell_type": "code",
   "execution_count": null,
   "id": "e7934482",
   "metadata": {},
   "outputs": [],
   "source": []
  }
 ],
 "metadata": {
  "kernelspec": {
   "display_name": ".venv",
   "language": "python",
   "name": "python3"
  },
  "language_info": {
   "codemirror_mode": {
    "name": "ipython",
    "version": 3
   },
   "file_extension": ".py",
   "mimetype": "text/x-python",
   "name": "python",
   "nbconvert_exporter": "python",
   "pygments_lexer": "ipython3",
   "version": "3.12.7"
  }
 },
 "nbformat": 4,
 "nbformat_minor": 5
}
